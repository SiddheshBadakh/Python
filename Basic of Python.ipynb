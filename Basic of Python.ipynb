{
 "cells": [
  {
   "cell_type": "markdown",
   "metadata": {},
   "source": [
    "# Basics of Python"
   ]
  },
  {
   "cell_type": "code",
   "execution_count": 77,
   "metadata": {},
   "outputs": [
    {
     "name": "stdout",
     "output_type": "stream",
     "text": [
      "10\n",
      "Siddhesh\n"
     ]
    }
   ],
   "source": [
    "#Variable\n",
    "a=10\n",
    "b=\"Siddhesh\"\n",
    "print(a)\n",
    "print(b)"
   ]
  },
  {
   "cell_type": "code",
   "execution_count": 78,
   "metadata": {},
   "outputs": [
    {
     "name": "stdout",
     "output_type": "stream",
     "text": [
      "10\n",
      "10.5\n",
      "Siddhesh\n",
      "True\n"
     ]
    }
   ],
   "source": [
    "#Datatype\n",
    "\n",
    "a=10         #Integer\n",
    "b=10.5       #Float\n",
    "c=\"Siddhesh\" #String\n",
    "bool=True    #Boolean\n",
    "\n",
    "print(a)\n",
    "print(b)\n",
    "print(c)\n",
    "print(bool)"
   ]
  },
  {
   "cell_type": "code",
   "execution_count": 79,
   "metadata": {},
   "outputs": [],
   "source": [
    "#Comment\n",
    "\n",
    "#This is a comment"
   ]
  },
  {
   "cell_type": "code",
   "execution_count": 80,
   "metadata": {},
   "outputs": [
    {
     "name": "stdout",
     "output_type": "stream",
     "text": [
      "Hello world!\n"
     ]
    }
   ],
   "source": [
    "#Output\n",
    "\n",
    "print(\"Hello world!\")"
   ]
  },
  {
   "cell_type": "code",
   "execution_count": 81,
   "metadata": {},
   "outputs": [
    {
     "name": "stdout",
     "output_type": "stream",
     "text": [
      "Grapes\n"
     ]
    }
   ],
   "source": [
    "#List\n",
    "\n",
    "fruits=[\"Apple\",\"Mango\",\"Orange\"]\n",
    "\n",
    "fruits.append(\"Grapes\")\n",
    "\n",
    "print(fruits[3])\n"
   ]
  },
  {
   "cell_type": "code",
   "execution_count": 82,
   "metadata": {},
   "outputs": [
    {
     "name": "stdout",
     "output_type": "stream",
     "text": [
      "siddhesh\n",
      "23\n"
     ]
    }
   ],
   "source": [
    "#Dictionary\n",
    "\n",
    "person={\"name\":\"siddhesh\",\"age\":23}\n",
    "\n",
    "print(person[\"name\"])\n",
    "print(person[\"age\"])"
   ]
  },
  {
   "cell_type": "code",
   "execution_count": 83,
   "metadata": {},
   "outputs": [
    {
     "name": "stdout",
     "output_type": "stream",
     "text": [
      "20\n"
     ]
    }
   ],
   "source": [
    "#Tuple\n",
    "\n",
    "Cordinates=(10,20)\n",
    "print(Cordinates[1])"
   ]
  },
  {
   "cell_type": "code",
   "execution_count": 84,
   "metadata": {},
   "outputs": [
    {
     "name": "stdout",
     "output_type": "stream",
     "text": [
      "{1, 2, 3, 4, 5, 6}\n"
     ]
    }
   ],
   "source": [
    "#Sets\n",
    "\n",
    "numbers={1,2,3,4,5}\n",
    "numbers.add(6) \n",
    "\n",
    "print(numbers)"
   ]
  },
  {
   "cell_type": "code",
   "execution_count": 85,
   "metadata": {},
   "outputs": [
    {
     "name": "stdout",
     "output_type": "stream",
     "text": [
      "you are Minor\n"
     ]
    }
   ],
   "source": [
    "#Conditional Statements\n",
    "#if-else statements\n",
    "\n",
    "n=10\n",
    "if(n>=18):\n",
    " print(\"Adult\")\n",
    "else:\n",
    " print(\"you are Minor\")"
   ]
  },
  {
   "cell_type": "code",
   "execution_count": 86,
   "metadata": {},
   "outputs": [
    {
     "name": "stdout",
     "output_type": "stream",
     "text": [
      "Apple\n",
      "Mango\n",
      "Orange\n",
      "Grapes\n"
     ]
    }
   ],
   "source": [
    "#For Loops\n",
    "\n",
    "for fruit in fruits:\n",
    "    print(fruit)"
   ]
  },
  {
   "cell_type": "code",
   "execution_count": 87,
   "metadata": {},
   "outputs": [
    {
     "name": "stdout",
     "output_type": "stream",
     "text": [
      "0\n",
      "1\n",
      "2\n",
      "3\n",
      "4\n"
     ]
    }
   ],
   "source": [
    "#While statements\n",
    "\n",
    "count=0\n",
    "while count<5:\n",
    "    print(count)\n",
    "    count+=1\n"
   ]
  },
  {
   "cell_type": "code",
   "execution_count": 88,
   "metadata": {},
   "outputs": [
    {
     "name": "stdout",
     "output_type": "stream",
     "text": [
      "100\n"
     ]
    }
   ],
   "source": [
    "#Function\n",
    "\n",
    "square=lambda x: x**2\n",
    "print(square(10))"
   ]
  },
  {
   "cell_type": "code",
   "execution_count": 89,
   "metadata": {},
   "outputs": [
    {
     "name": "stdout",
     "output_type": "stream",
     "text": [
      "hello,Siddhesh!\n"
     ]
    }
   ],
   "source": [
    "#Lamda Function\n",
    "\n",
    "def greet(name):\n",
    "    return f\"hello,{name}!\"\n",
    "print(greet(\"Siddhesh\"))"
   ]
  },
  {
   "cell_type": "code",
   "execution_count": 90,
   "metadata": {},
   "outputs": [
    {
     "name": "stdout",
     "output_type": "stream",
     "text": [
      "Can not divides into zero\n",
      "this is always run\n"
     ]
    }
   ],
   "source": [
    "#Exception handling\n",
    "\n",
    "try:\n",
    "    result=10/0\n",
    "except ZeroDivisionError:\n",
    "   print(\"Can not divides into zero\")\n",
    "finally:\n",
    "  print(\"this is always run\")\n",
    "\n"
   ]
  },
  {
   "cell_type": "code",
   "execution_count": 91,
   "metadata": {},
   "outputs": [
    {
     "name": "stdout",
     "output_type": "stream",
     "text": [
      "hello world!\n"
     ]
    }
   ],
   "source": [
    "#file Handling\n",
    "\n",
    "#Writing a file\n",
    "\n",
    "with open('file.txt','w')as f:\n",
    "    f.write(\"hello world!\")\n",
    "\n",
    "with open('file.txt','r')as f:\n",
    "   content=f.read()\n",
    "   print(content)"
   ]
  },
  {
   "cell_type": "code",
   "execution_count": 92,
   "metadata": {},
   "outputs": [
    {
     "name": "stdout",
     "output_type": "stream",
     "text": [
      "[0, 2, 4, 6, 8, 10, 12, 14, 16, 18]\n"
     ]
    }
   ],
   "source": [
    "#List Comprehensions\n",
    "\n",
    "squares=[x*2 for x in range(10)]\n",
    "print(squares)"
   ]
  },
  {
   "cell_type": "code",
   "execution_count": 93,
   "metadata": {},
   "outputs": [
    {
     "name": "stdout",
     "output_type": "stream",
     "text": [
      "Billu Says Wroof!\n"
     ]
    }
   ],
   "source": [
    "#Classes and object\n",
    "class Dog:\n",
    "    def __init__(self, name, age):\n",
    "        self.name = name\n",
    "        self.age = age\n",
    "\n",
    "    def bark(self):\n",
    "        return f\"{self.name} Says Wroof!\"\n",
    "\n",
    "dog1 = Dog(\"Billu\", 7)\n",
    "print(dog1.bark())\n",
    "\n",
    "        "
   ]
  },
  {
   "cell_type": "code",
   "execution_count": 94,
   "metadata": {},
   "outputs": [
    {
     "name": "stdout",
     "output_type": "stream",
     "text": [
      "4.0\n"
     ]
    }
   ],
   "source": [
    "#Modules and Math\n",
    "\n",
    "import math\n",
    "\n",
    "print(math.sqrt(16))"
   ]
  },
  {
   "cell_type": "code",
   "execution_count": 95,
   "metadata": {},
   "outputs": [
    {
     "name": "stdout",
     "output_type": "stream",
     "text": [
      "[ 2  4  6  8 10 12]\n"
     ]
    }
   ],
   "source": [
    "#Numpy Library\n",
    "\n",
    "import numpy as np\n",
    "\n",
    "arr=np.array([1,2,3,4,5,6])\n",
    "\n",
    "print(arr*2)\n"
   ]
  },
  {
   "cell_type": "code",
   "execution_count": 96,
   "metadata": {},
   "outputs": [
    {
     "name": "stdout",
     "output_type": "stream",
     "text": [
      "       name  age\n",
      "0  siddhesh   10\n",
      "1     rahul   12\n"
     ]
    }
   ],
   "source": [
    "#Pandas Library\n",
    "\n",
    "import pandas as pd\n",
    "\n",
    "df=pd.DataFrame({\"name\":[\"siddhesh\",\"rahul\"],\"age\":[10,12]})\n",
    "\n",
    "print(df)"
   ]
  },
  {
   "cell_type": "code",
   "execution_count": 97,
   "metadata": {},
   "outputs": [
    {
     "name": "stdout",
     "output_type": "stream",
     "text": [
      "Before function\n",
      "hello\n",
      "After function\n"
     ]
    }
   ],
   "source": [
    "#Decorator\n",
    "def decorator(func):\n",
    "    def wrapper():\n",
    "        print(\"Before function\")\n",
    "        func()\n",
    "        print(\"After function\")\n",
    "    return wrapper  # Move the return statement here\n",
    "\n",
    "@decorator\n",
    "def say_hello():\n",
    "    print(\"hello\")\n",
    "\n",
    "say_hello()\n",
    "\n",
    "    \n"
   ]
  },
  {
   "cell_type": "code",
   "execution_count": 102,
   "metadata": {},
   "outputs": [
    {
     "data": {
      "text/plain": [
       "[1, 2, 3, 4, 5, 6]"
      ]
     },
     "execution_count": 102,
     "metadata": {},
     "output_type": "execute_result"
    }
   ],
   "source": [
    "#List of Useful Functions\n",
    "\n",
    "\n",
    "#len(numbers)\n",
    "#max(numbers)\n",
    "#min(numbers)\n",
    "#sum(numbers)\n",
    "sorted(numbers)\n"
   ]
  }
 ],
 "metadata": {
  "kernelspec": {
   "display_name": "base",
   "language": "python",
   "name": "python3"
  },
  "language_info": {
   "codemirror_mode": {
    "name": "ipython",
    "version": 3
   },
   "file_extension": ".py",
   "mimetype": "text/x-python",
   "name": "python",
   "nbconvert_exporter": "python",
   "pygments_lexer": "ipython3",
   "version": "3.12.4"
  }
 },
 "nbformat": 4,
 "nbformat_minor": 2
}
